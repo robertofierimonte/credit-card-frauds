{
 "cells": [
  {
   "cell_type": "code",
   "execution_count": null,
   "metadata": {},
   "outputs": [],
   "source": [
    "%load_ext autoreload\n",
    "%autoreload 2"
   ]
  },
  {
   "cell_type": "code",
   "execution_count": null,
   "metadata": {},
   "outputs": [],
   "source": [
    "import os\n",
    "import sys\n",
    "from pathlib import Path\n",
    "\n",
    "from google.cloud import aiplatform\n",
    "from google.cloud.aiplatform import model_monitoring\n",
    "from kfp.dsl import Model\n",
    "from loguru import logger\n",
    "\n",
    "module_path = os.path.abspath(\"..\")\n",
    "sys.path.append(module_path)\n",
    "\n",
    "from src.base.utilities import read_json, read_yaml\n",
    "from src.utils.notebooks import patch_kfp\n",
    "\n",
    "patch_kfp()\n",
    "\n",
    "from src.components.aiplatform import deploy_model, export_model, lookup_model\n",
    "\n",
    "# Remove default logger and set level to DEBUG\n",
    "logger.remove()\n",
    "logger.add(sys.stderr, level=\"DEBUG\")"
   ]
  },
  {
   "cell_type": "code",
   "execution_count": null,
   "metadata": {},
   "outputs": [],
   "source": [
    "project_id = os.environ.get(\"VERTEX_PROJECT_ID\")\n",
    "project_location = os.environ.get(\"VERTEX_LOCATION\")"
   ]
  },
  {
   "cell_type": "code",
   "execution_count": null,
   "metadata": {},
   "outputs": [],
   "source": [
    "project_location"
   ]
  },
  {
   "cell_type": "code",
   "execution_count": null,
   "metadata": {},
   "outputs": [],
   "source": [
    "monitoring_config = read_yaml(\"../src/pipelines/configuration/endpoint_monitoring.yaml\")"
   ]
  },
  {
   "cell_type": "code",
   "execution_count": null,
   "metadata": {},
   "outputs": [],
   "source": [
    "dataset_id = \"credit_card_frauds\"\n",
    "data_version = \"20230614145952\""
   ]
  },
  {
   "cell_type": "code",
   "execution_count": null,
   "metadata": {},
   "outputs": [],
   "source": [
    "endpoint = aiplatform.Endpoint(\n",
    "    \"projects/386525277255/locations/europe-west2/endpoints/credit-card-frauds-endpoint\"\n",
    ")"
   ]
  },
  {
   "cell_type": "code",
   "execution_count": null,
   "metadata": {},
   "outputs": [],
   "source": [
    "aiplatform.Model.list(project=\"robertofierimonte-ml-pipe\", location=\"europe-west2\")"
   ]
  },
  {
   "cell_type": "code",
   "execution_count": null,
   "metadata": {},
   "outputs": [],
   "source": [
    "aiplatform.init(project=\"386525277255\", location=project_location)\n",
    "print(aiplatform.ModelDeploymentMonitoringJob.list())\n",
    "print(aiplatform.Endpoint.list())\n",
    "print(aiplatform.Model.list(project=project_id, location=project_location))"
   ]
  },
  {
   "cell_type": "code",
   "execution_count": null,
   "metadata": {},
   "outputs": [],
   "source": [
    "aiplatform.ModelDeploymentMonitoringJob.list()[0].delete()"
   ]
  },
  {
   "cell_type": "code",
   "execution_count": null,
   "metadata": {},
   "outputs": [],
   "source": [
    "skew_config = model_monitoring.SkewDetectionConfig(\n",
    "    data_source=f\"bq://{project_id}.{dataset_id}_{data_version}.training\",  # noqa: E501\n",
    "    skew_thresholds=monitoring_config[\"skew_thresholds\"],\n",
    "    attribute_skew_thresholds=monitoring_config[\"attribute_skew_thresholds\"],\n",
    "    target_field=monitoring_config[\"target_column\"],\n",
    ")\n",
    "drift_config = model_monitoring.DriftDetectionConfig(\n",
    "    drift_thresholds=monitoring_config[\"drift_thresholds\"],\n",
    "    attribute_drift_thresholds=monitoring_config[\"attribute_drift_thresholds\"],\n",
    ")\n",
    "# explanation_config = model_monitoring.ExplanationConfig()\n",
    "objective_config = model_monitoring.ObjectiveConfig(\n",
    "    skew_detection_config=skew_config,\n",
    "    drift_detection_config=drift_config,\n",
    "    # explanation_config=explanation_config,\n",
    ")\n",
    "\n",
    "# Create sampling configuration.\n",
    "sampling_config = model_monitoring.RandomSampleConfig(sample_rate=1.0)\n",
    "\n",
    "# Create schedule configuration.\n",
    "schedule_config = model_monitoring.ScheduleConfig(monitor_interval=6)\n",
    "\n",
    "# Create alerting configuration.\n",
    "alerting_config = model_monitoring.EmailAlertConfig(\n",
    "    user_emails=[\"roberto.fierimonte@gmail.com\"], enable_logging=True\n",
    ")\n",
    "\n",
    "# Create the monitoring job.\n",
    "job = aiplatform.ModelDeploymentMonitoringJob.create(\n",
    "    display_name=f\"monitoring-job-credit-card-frauds-endpoint\",\n",
    "    logging_sampling_strategy=sampling_config,\n",
    "    schedule_config=schedule_config,\n",
    "    alert_config=alerting_config,\n",
    "    objective_configs=objective_config,\n",
    "    project=project_id,\n",
    "    location=project_location,\n",
    "    endpoint=endpoint\n",
    ")"
   ]
  },
  {
   "cell_type": "code",
   "execution_count": null,
   "metadata": {},
   "outputs": [],
   "source": [
    "aiplatform.init(project=project_id, location=project_location)"
   ]
  },
  {
   "cell_type": "code",
   "execution_count": null,
   "metadata": {},
   "outputs": [],
   "source": [
    "aiplatform.ModelDeploymentMonitoringJob(\n",
    "    \"projects/386525277255/locations/europe-west2/modelDeploymentMonitoringJobs/456\",\n",
    ")"
   ]
  }
 ],
 "metadata": {
  "kernelspec": {
   "display_name": "credit-card-frauds-venv",
   "language": "python",
   "name": "credit-card-frauds-venv"
  },
  "language_info": {
   "codemirror_mode": {
    "name": "ipython",
    "version": 3
   },
   "file_extension": ".py",
   "mimetype": "text/x-python",
   "name": "python",
   "nbconvert_exporter": "python",
   "pygments_lexer": "ipython3",
   "version": "3.10.11"
  }
 },
 "nbformat": 4,
 "nbformat_minor": 2
}
