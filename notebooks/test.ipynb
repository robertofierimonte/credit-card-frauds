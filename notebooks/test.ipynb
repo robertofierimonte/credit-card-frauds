{
 "cells": [
  {
   "cell_type": "code",
   "execution_count": null,
   "metadata": {},
   "outputs": [],
   "source": [
    "import os\n",
    "\n",
    "import pandas as pd\n",
    "from google.cloud import bigquery"
   ]
  },
  {
   "cell_type": "code",
   "execution_count": null,
   "metadata": {},
   "outputs": [],
   "source": [
    "client = bigquery.client.Client(project=\"robertofierimonte-ml-pipe\")\n",
    "q = \"\"\"\n",
    "SELECT *\n",
    "FROM `robertofierimonte-ml-pipe.credit_card_frauds_20230613T173157.mcc_aux`\n",
    "\n",
    "WHERE 1 = 1\n",
    "# AND mcc = 3075\n",
    "\n",
    "ORDER BY datetime\n",
    "\n",
    "LIMIT 10000\n",
    ";\n",
    "\"\"\"\n",
    "\n",
    "df = client.query(q).to_dataframe()"
   ]
  },
  {
   "cell_type": "code",
   "execution_count": null,
   "metadata": {},
   "outputs": [],
   "source": [
    "df[df[\"mcc\"] == 3075].sort_values(\"datetime\")"
   ]
  }
 ],
 "metadata": {
  "kernelspec": {
   "display_name": "credit-card-frauds-venv",
   "language": "python",
   "name": "credit-card-frauds-venv"
  },
  "language_info": {
   "codemirror_mode": {
    "name": "ipython",
    "version": 3
   },
   "file_extension": ".py",
   "mimetype": "text/x-python",
   "name": "python",
   "nbconvert_exporter": "python",
   "pygments_lexer": "ipython3",
   "version": "3.9.2"
  }
 },
 "nbformat": 4,
 "nbformat_minor": 2
}
