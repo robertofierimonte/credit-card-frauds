{
 "cells": [
  {
   "cell_type": "code",
   "execution_count": null,
   "metadata": {},
   "outputs": [],
   "source": [
    "%load_ext autoreload\n",
    "%autoreload 2"
   ]
  },
  {
   "cell_type": "code",
   "execution_count": null,
   "metadata": {},
   "outputs": [],
   "source": [
    "import json\n",
    "import os\n",
    "import sys\n",
    "from pathlib import Path\n",
    "\n",
    "from loguru import logger\n",
    "\n",
    "module_path = os.path.abspath(\"..\")\n",
    "sys.path.append(module_path)\n",
    "\n",
    "from src.base.utilities import generate_query, read_yaml\n",
    "from src.utils.notebooks import patch_kfp\n",
    "\n",
    "patch_kfp()\n",
    "\n",
    "from src.components.bigquery import execute_query\n",
    "from src.components.data import get_data_version\n",
    "from src.components.helpers import get_current_time\n",
    "\n",
    "# Remove default logger and set level to DEBUG\n",
    "logger.remove()\n",
    "logger.add(sys.stderr, level=\"DEBUG\")"
   ]
  },
  {
   "cell_type": "code",
   "execution_count": null,
   "metadata": {},
   "outputs": [],
   "source": [
    "with open(\"../src/pipelines/training/payloads/dev.json\") as f:\n",
    "    payload = json.load(f)\n",
    "    payload = payload[\"data\"]\n",
    "\n",
    "project_id = os.environ.get(\"VERTEX_PROJECT_ID\")\n",
    "dataset_id = payload[\"dataset_id\"]\n",
    "dataset_location = payload[\"dataset_location\"]\n",
    "data_version = payload[\"data_version\"]\n",
    "create_replace_tables = payload[\"create_replace_tables\"]"
   ]
  },
  {
   "cell_type": "code",
   "execution_count": null,
   "metadata": {},
   "outputs": [],
   "source": [
    "config_params = read_yaml(\"../src/pipelines/configuration/params.yaml\")\n",
    "features = \"`\" + \"`,\\n`\".join(f for f in config_params[\"features\"]) + \"`\""
   ]
  },
  {
   "cell_type": "code",
   "execution_count": null,
   "metadata": {},
   "outputs": [],
   "source": [
    "queries_folder = Path.cwd().parent / \"src/pipelines/training/queries\""
   ]
  },
  {
   "cell_type": "code",
   "execution_count": null,
   "metadata": {},
   "outputs": [],
   "source": [
    "current_timestamp = get_current_time()"
   ]
  },
  {
   "cell_type": "code",
   "execution_count": null,
   "metadata": {},
   "outputs": [],
   "source": [
    "data_version = get_data_version(\n",
    "    payload_data_version=data_version,\n",
    "    project_id=project_id,\n",
    "    dataset_id=dataset_id,\n",
    "    dataset_location=dataset_location,\n",
    ")"
   ]
  },
  {
   "cell_type": "code",
   "execution_count": null,
   "metadata": {},
   "outputs": [],
   "source": [
    "dataset_name = f\"{project_id}.{dataset_id}_{data_version}\"\n",
    "transactions_table = f\"{dataset_name}.transactions\"\n",
    "users_table = f\"{dataset_name}.users\"\n",
    "cards_table = f\"{dataset_name}.cards\"\n",
    "holidays_table = f\"{dataset_name}.holidays\"\n",
    "preprocessed_table = f\"{dataset_name}.preprocessed_local\"\n",
    "\n",
    "preprocessing_query = generate_query(\n",
    "    queries_folder / \"q_preprocessing.sql\",\n",
    "    transactions_table=transactions_table,\n",
    "    users_table=users_table,\n",
    "    cards_table=cards_table,\n",
    "    holidays_table=holidays_table,\n",
    "    preprocessed_table=preprocessed_table,\n",
    "    fraud_delay_seconds=(config_params[\"fraud_delay_days\"] * 24 * 60 * 60),\n",
    "    features=features,\n",
    "    create_replace_table=create_replace_tables,\n",
    ")\n",
    "\n",
    "query_job_config = json.dumps(dict(use_query_cache=True))\n",
    "\n",
    "execute_query(\n",
    "    query=preprocessing_query,\n",
    "    bq_client_project_id=project_id,\n",
    "    query_job_config=query_job_config,\n",
    ")"
   ]
  }
 ],
 "metadata": {
  "kernelspec": {
   "display_name": "credit-card-frauds-venv",
   "language": "python",
   "name": "credit-card-frauds-venv"
  },
  "language_info": {
   "codemirror_mode": {
    "name": "ipython",
    "version": 3
   },
   "file_extension": ".py",
   "mimetype": "text/x-python",
   "name": "python",
   "nbconvert_exporter": "python",
   "pygments_lexer": "ipython3",
   "version": "3.10.11"
  }
 },
 "nbformat": 4,
 "nbformat_minor": 2
}
