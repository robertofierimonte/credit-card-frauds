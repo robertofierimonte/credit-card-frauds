{
 "cells": [
  {
   "cell_type": "code",
   "execution_count": null,
   "id": "0b43938b",
   "metadata": {},
   "outputs": [],
   "source": [
    "# Set True, if you want to use a subset of the data for faster development. \n",
    "# Set False, if you want to use the entire dataset.\n",
    "use_partial_data = True"
   ]
  },
  {
   "cell_type": "code",
   "execution_count": null,
   "id": "09bee4e2",
   "metadata": {},
   "outputs": [],
   "source": [
    "from IPython.display import display, HTML\n",
    "display(HTML(\"<style>.container { width:90% !important; }</style>\"))"
   ]
  },
  {
   "cell_type": "code",
   "execution_count": null,
   "id": "0e58aa34",
   "metadata": {},
   "outputs": [],
   "source": [
    "import sys\n",
    "sys.path.append('..')"
   ]
  },
  {
   "cell_type": "code",
   "execution_count": null,
   "id": "7b7b4ad4",
   "metadata": {},
   "outputs": [],
   "source": [
    "%load_ext autoreload\n",
    "%autoreload 2"
   ]
  },
  {
   "cell_type": "code",
   "execution_count": null,
   "id": "2eeefd78",
   "metadata": {},
   "outputs": [],
   "source": [
    "import pandas as pd\n",
    "import numpy as np\n",
    "import os\n",
    "\n",
    "from model_training import train_model\n",
    "from plotting import plot_precision_recall_curve\n",
    "\n",
    "from sklearn.linear_model import LogisticRegression\n",
    "from sklearn.linear_model import SGDClassifier\n",
    "from sklearn.ensemble import RandomForestClassifier\n",
    "from xgboost import XGBClassifier\n",
    "from lightgbm import LGBMClassifier\n",
    "\n",
    "from sklearn.model_selection import TimeSeriesSplit\n",
    "from sklearn.preprocessing import StandardScaler\n",
    "from sklearn.metrics import average_precision_score\n",
    "# import shap\n",
    "\n",
    "import plotly.express as px\n",
    "import plotly.graph_objects as go\n",
    "import matplotlib.pyplot as plt\n",
    "import seaborn as sns\n",
    "\n",
    "\n",
    "cwd_path = os.path.abspath(os.getcwd())\n",
    "project_root = os.path.dirname(cwd_path)\n",
    "\n",
    "# allow more data columns to be shown than by default\n",
    "pd.set_option('display.max_columns', 500)"
   ]
  },
  {
   "attachments": {},
   "cell_type": "markdown",
   "id": "105f622c",
   "metadata": {},
   "source": [
    "# DATA"
   ]
  },
  {
   "cell_type": "code",
   "execution_count": null,
   "id": "8c95eb40",
   "metadata": {},
   "outputs": [],
   "source": [
    "if use_partial_data:\n",
    "    data_path = os.path.join(project_root, 'data/preprocessed_data_with_feature_engineering_small.csv')\n",
    "    print(data_path)\n",
    "    data = pd.read_csv(data_path, index_col=0)\n",
    "    data['Datetime'] = pd.to_datetime(data['Datetime'], yearfirst=True)\n",
    "else:\n",
    "    print('Not created yet!')\n",
    "    data_path = os.path.join(project_root, 'data/preprocessed_data_with_feature_engineering.csv')\n",
    "    data = pd.read_csv(data_path, index_col=0)\n",
    "    data['Datetime'] = pd.to_datetime(data['Datetime'], yearfirst=True)\n",
    "display(data.head())\n",
    "display(data.shape)"
   ]
  },
  {
   "attachments": {},
   "cell_type": "markdown",
   "id": "9b0500b1",
   "metadata": {},
   "source": [
    "## Features and data standardization"
   ]
  },
  {
   "cell_type": "code",
   "execution_count": null,
   "id": "b57a9e18",
   "metadata": {},
   "outputs": [],
   "source": [
    "np.array(data.columns)"
   ]
  },
  {
   "cell_type": "code",
   "execution_count": null,
   "id": "eeda3577",
   "metadata": {},
   "outputs": [],
   "source": [
    "features = ['Amount', 'Has Chip', 'Gender', 'Online Transaction', 'Amex', 'Discover', \n",
    "       'Mastercard', 'Visa', 'Credit', 'Debit', 'Debit (Prepaid)', 'MCC_mean_encoding', 'card_present_transaction', \n",
    "        'fraud_rolling_mean_30_days',\n",
    "       'fraud_rolling_mean_60_days', 'fraud_rolling_mean_365_days',\n",
    "       'fraud_rolling_mean_2_years', \n",
    "       'fraud_online_rolling_mean_30_days',\n",
    "       'fraud_online_rolling_mean_60_days',\n",
    "       'fraud_online_rolling_mean_365_days',\n",
    "       'fraud_online_rolling_mean_2_years',\n",
    "       'fraud_card_present_rolling_mean_30_days',\n",
    "       'fraud_card_present_rolling_mean_60_days',\n",
    "       'fraud_card_present_rolling_mean_365_days',\n",
    "       'fraud_card_present_rolling_mean_2_years',\n",
    "       'fraud_rolling_30_days_relative_to_365_days',\n",
    "       'fraud_rolling_30_days_relative_to_2_years',\n",
    "       'fraud_rolling_60_days_relative_to_365_days',\n",
    "       'fraud_rolling_60_days_relative_to_2_years',       \n",
    "       'fraud_online_rolling_30_days_relative_to_365_days',\n",
    "       'fraud_online_rolling_30_days_relative_to_2_years',\n",
    "       'fraud_online_rolling_60_days_relative_to_365_days',\n",
    "       'fraud_online_rolling_60_days_relative_to_2_years',\n",
    "       'fraud_card_present_rolling_30_days_relative_to_365_days',\n",
    "       'fraud_card_present_rolling_30_days_relative_to_2_years',\n",
    "       'fraud_card_present_rolling_60_days_relative_to_365_days',\n",
    "       'fraud_card_present_rolling_60_days_relative_to_2_years',\n",
    "       'fraud_online_rolling_30_days_relative_to_all_frauds',\n",
    "       'fraud_card_present_rolling_30_days_relative_to_all_frauds',\n",
    "       'fraud_online_rolling_60_days_relative_to_all_frauds',\n",
    "       'fraud_card_present_rolling_60_days_relative_to_all_frauds',\n",
    "       'fraud_online_rolling_365_days_relative_to_all_frauds',\n",
    "       'fraud_card_present_rolling_365_days_relative_to_all_frauds',\n",
    "       'fraud_online_rolling_2_years_relative_to_all_frauds',\n",
    "       'fraud_card_present_rolling_2_years_relative_to_all_frauds', 'hour_sin', 'hour_cos',\n",
    "       'month_sin', 'month_cos', 'day_of_week_sin', 'day_of_week_cos',\n",
    "       'is_holiday', 'weekend', 'is_2015_or_later', 'mean_amount', 'mean_amount_last_year',\n",
    "       'mean_amount_last_30_days', 'mean_amount_last_7_days',\n",
    "       'mean_amount_last_2_days', 'mean_amount_last_1_days',\n",
    "       'mean_amount_last_7_days_relative_to_last_year',\n",
    "       'mean_amount_last_2_days_relative_to_last_year',\n",
    "       'mean_amount_last_1_days_relative_to_last_year',\n",
    "       'mean_amount_last_7_days_relative_to_last_30_days',\n",
    "       'mean_amount_last_2_days_relative_to_last_30_days',\n",
    "       'mean_amount_last_1_days_relative_to_last_30_days', 'transaction_count',\n",
    "       'days_since_first_transaction', 'transaction_frequency_all',\n",
    "       'transaction_frequency_last_year', 'transaction_frequency_last_30_days',\n",
    "       'transaction_frequency_last_7_days',\n",
    "       'transaction_frequency_last_2_days',\n",
    "       'transaction_frequency_last_1_days',\n",
    "       '1_days_transaction_frequency_relative_to_last_30_days',\n",
    "       '1_days_transaction_frequency_relative_to_last_year',\n",
    "       '2_days_transaction_frequency_relative_to_last_30_days',\n",
    "       '2_days_transaction_frequency_relative_to_last_year',\n",
    "       '7_days_transaction_frequency_relative_to_last_30_days',\n",
    "       '7_days_transaction_frequency_relative_to_last_year']\n",
    "target = ['Is Fraud?']"
   ]
  },
  {
   "cell_type": "code",
   "execution_count": null,
   "id": "53d99f08",
   "metadata": {},
   "outputs": [],
   "source": [
    "# impute missing values with zeros\n",
    "data[features] = data[features].fillna(0)\n",
    "# impute infinities with zeros\n",
    "data[features] = data[features].replace([np.inf, -np.inf], 0)      "
   ]
  },
  {
   "cell_type": "code",
   "execution_count": null,
   "id": "4a0035ca",
   "metadata": {},
   "outputs": [],
   "source": [
    "# features\n",
    "X = np.array(data[features])\n",
    "print(f'X: shape={X.shape}')\n",
    "display(X[0:5,:])\n",
    "\n",
    "# target\n",
    "y = np.squeeze(np.array(data[target]))\n",
    "print(f'y: shape={y.shape}')\n",
    "display(y[0:10])"
   ]
  },
  {
   "attachments": {},
   "cell_type": "markdown",
   "id": "973d01a2",
   "metadata": {},
   "source": [
    "# TIME SERIES CROSS-VALIDATION DATASETS"
   ]
  },
  {
   "cell_type": "code",
   "execution_count": null,
   "id": "8c450eef",
   "metadata": {},
   "outputs": [],
   "source": [
    "tscv = TimeSeriesSplit(n_splits=4)\n",
    "all_splits = list(tscv.split(X, y))\n",
    "display(all_splits)"
   ]
  },
  {
   "cell_type": "code",
   "execution_count": null,
   "id": "1e6df095",
   "metadata": {},
   "outputs": [],
   "source": [
    "sampling_interval = 1000\n",
    "fig = go.Figure()\n",
    "for fold in range(len(all_splits)):\n",
    "    \n",
    "    # training set\n",
    "    fig.add_trace(\n",
    "        go.Scatter(\n",
    "            x=data.loc[all_splits[fold][0][::sampling_interval], 'Datetime'], \n",
    "            y=-fold*np.ones(len(all_splits[fold][0][::sampling_interval])), \n",
    "            mode='lines',\n",
    "            line=dict(color='blue', width=10),             \n",
    "            name='training',\n",
    "            # only pring legend once\n",
    "            showlegend=(fold==0),\n",
    "        )\n",
    "     )\n",
    "    \n",
    "    # test set\n",
    "    fig.add_trace(\n",
    "        go.Scatter(\n",
    "            x=data.loc[all_splits[fold][1][::sampling_interval], 'Datetime'], \n",
    "            y=-fold*np.ones(len(all_splits[fold][1][::sampling_interval])),\n",
    "            mode='lines',\n",
    "            line=dict(color='red', width=10), \n",
    "            name='test',\n",
    "            # only pring legend once\n",
    "            showlegend=(fold==0),\n",
    "        )\n",
    "    )\n",
    "\n",
    "fig.update_traces(marker_size=10)\n",
    "fig.update_yaxes(showticklabels=False)    \n",
    "\n",
    "fig.update_layout(\n",
    "    title = f\"Train and test set split with time series k-fold cross-validation\",\n",
    "    #template='plotly_dark',\n",
    "    xaxis_title = 'aika',\n",
    "    #yaxis_title = 'maalit / ottelu',\n",
    "    showlegend=True\n",
    ")\n",
    "\n",
    "fig.show()"
   ]
  },
  {
   "cell_type": "code",
   "execution_count": null,
   "id": "237834f5",
   "metadata": {},
   "outputs": [],
   "source": [
    "# scaler used to scale training data to mean zero and unit variance\n",
    "scaler = StandardScaler()\n",
    "for count, (train_index, test_index) in enumerate(all_splits):\n",
    "    print(f\"CV COUNT: {count+1}\")\n",
    "    X_train, X_test = X[train_index], X[test_index]\n",
    "    y_train, y_test = np.squeeze(y[train_index]), np.squeeze(y[test_index])\n",
    "    # standardize X_train and X_test. However, use only X_train for fitting\n",
    "    X_train = scaler.fit_transform(X_train)\n",
    "    X_test = scaler.transform(X_test)\n",
    "    print('X_train mean:')\n",
    "    display(X_train.mean(axis=0))\n",
    "    print('X_train standard deviation:')\n",
    "    display(X_train.std(axis=0))\n",
    "    print('X_test mean:')\n",
    "    display(X_test.mean(axis=0))\n",
    "    print('X_test standard deviation:')\n",
    "    display(X_test.std(axis=0))\n",
    "    print(f'y_train proportion of fraud: {np.sum(y_train)/y_train.shape[0]}')\n",
    "    print(f'y_test proportion of fraud: {np.sum(y_test)/y_test.shape[0]}')\n",
    "    print('')\n",
    "    print('')"
   ]
  },
  {
   "attachments": {},
   "cell_type": "markdown",
   "id": "a09008ff",
   "metadata": {},
   "source": [
    "# MODEL TRAINING"
   ]
  },
  {
   "cell_type": "code",
   "execution_count": null,
   "id": "ced9782e",
   "metadata": {},
   "outputs": [],
   "source": [
    "# set up dataframe for collecting all the results\n",
    "all_results = pd.DataFrame(columns=['model','precision', 'recall', 'f1', 'f2', 'f0.5', 'roc_auc', 'average_precision', 'precision_top_k'])"
   ]
  },
  {
   "attachments": {},
   "cell_type": "markdown",
   "id": "77419bf1",
   "metadata": {},
   "source": [
    "## LOGISTIC REGRESSION"
   ]
  },
  {
   "cell_type": "code",
   "execution_count": null,
   "id": "63c28505",
   "metadata": {},
   "outputs": [],
   "source": [
    "classifier_logistic = LogisticRegression(random_state=42, max_iter=500)\n",
    "all_classifier_logistic, all_performance_metrics, cross_validation_results = train_model(classifier_logistic, all_splits, X, y,\n",
    "                                                data_standardization='standard', data_sampling='none')\n",
    "# collect results\n",
    "cross_validation_results['model'] = 'logistic regression'\n",
    "all_results = all_results.append(cross_validation_results, ignore_index=True)"
   ]
  },
  {
   "attachments": {},
   "cell_type": "markdown",
   "id": "7a1db569",
   "metadata": {},
   "source": [
    "## SGDClassifier"
   ]
  },
  {
   "cell_type": "code",
   "execution_count": null,
   "id": "70f51242",
   "metadata": {},
   "outputs": [],
   "source": [
    "classifier_sgd = SGDClassifier(loss='modified_huber', random_state=42)\n",
    "all_classifier_sgd, all_performance_metrics, cross_validation_results = train_model(classifier_sgd, all_splits, X, y,\n",
    "                                                data_standardization='standard', data_sampling='none')\n",
    "# collect results\n",
    "cross_validation_results['model'] = 'SGDClassifier'\n",
    "all_results = all_results.append(cross_validation_results, ignore_index=True)"
   ]
  },
  {
   "attachments": {},
   "cell_type": "markdown",
   "id": "a7e69b55",
   "metadata": {},
   "source": [
    "## RANDOM FOREST"
   ]
  },
  {
   "cell_type": "code",
   "execution_count": null,
   "id": "ddc0e64f",
   "metadata": {},
   "outputs": [],
   "source": [
    "classifier_rf = RandomForestClassifier(random_state=42, n_jobs=-1)\n",
    "all_classifier_rf, all_performance_metrics, cross_validation_results = train_model(classifier_rf, all_splits, X, y,\n",
    "                                                data_standardization='standard', data_sampling='none')\n",
    "# collect results\n",
    "cross_validation_results['model'] = 'random forest'\n",
    "all_results = all_results.append(cross_validation_results, ignore_index=True)"
   ]
  },
  {
   "attachments": {},
   "cell_type": "markdown",
   "id": "7bcf8697",
   "metadata": {},
   "source": [
    "## XGBOOST"
   ]
  },
  {
   "cell_type": "code",
   "execution_count": null,
   "id": "b664d117",
   "metadata": {},
   "outputs": [],
   "source": [
    "classifier_xgb = XGBClassifier(use_label_encoder=False, eval_metric='logloss', random_state=42)\n",
    "all_classifiers_xgb, all_performance_metrics, cross_validation_results = train_model(classifier_xgb, all_splits, X, y,\n",
    "                                                data_standardization='none', data_sampling='none',)\n",
    "# collect results\n",
    "cross_validation_results['model'] = 'XGBoost'\n",
    "all_results = all_results.append(cross_validation_results, ignore_index=True)"
   ]
  },
  {
   "attachments": {},
   "cell_type": "markdown",
   "id": "e5606f50",
   "metadata": {},
   "source": [
    "## LIGHTGBM"
   ]
  },
  {
   "cell_type": "code",
   "execution_count": null,
   "id": "808fa1bd",
   "metadata": {},
   "outputs": [],
   "source": [
    "classifier_lgbm = LGBMClassifier(random_state=42)\n",
    "all_classifier_lgbm, all_performance_metrics, cross_validation_results = train_model(classifier_lgbm, all_splits, X, y,\n",
    "                                                data_standardization='none', data_sampling='none')\n",
    "# collect results\n",
    "cross_validation_results['model'] = 'LigthGBM'\n",
    "all_results = all_results.append(cross_validation_results, ignore_index=True)"
   ]
  },
  {
   "attachments": {},
   "cell_type": "markdown",
   "id": "d69e9e6b",
   "metadata": {},
   "source": [
    "# RESULTS"
   ]
  },
  {
   "cell_type": "code",
   "execution_count": null,
   "id": "0ca2a2d5",
   "metadata": {},
   "outputs": [],
   "source": [
    "display(all_results.round(3))"
   ]
  },
  {
   "cell_type": "code",
   "execution_count": null,
   "id": "98e087d9",
   "metadata": {},
   "outputs": [],
   "source": [
    "# save results\n",
    "#all_results.round(3).to_csv('../results/221116_random_oversampling_with_noise_minority_proportion_10.csv')"
   ]
  },
  {
   "attachments": {},
   "cell_type": "markdown",
   "id": "a5e92906",
   "metadata": {},
   "source": [
    "# SHAP"
   ]
  },
  {
   "cell_type": "code",
   "execution_count": null,
   "id": "1ed5370b",
   "metadata": {},
   "outputs": [],
   "source": [
    "explainer = shap.Explainer(all_classifiers_xgb[3], data[features])#scaler.fit_transform(data[features]))\n",
    "shap_values = explainer(data.iloc[::100][features])"
   ]
  },
  {
   "cell_type": "code",
   "execution_count": null,
   "id": "302929dd",
   "metadata": {},
   "outputs": [],
   "source": [
    "shap.summary_plot(shap_values, max_display=20, plot_type='bar')"
   ]
  },
  {
   "cell_type": "code",
   "execution_count": null,
   "id": "dd1f417d",
   "metadata": {},
   "outputs": [],
   "source": [
    "shap.summary_plot(shap_values, max_display=20)"
   ]
  },
  {
   "cell_type": "code",
   "execution_count": null,
   "id": "12581671",
   "metadata": {},
   "outputs": [],
   "source": []
  },
  {
   "cell_type": "code",
   "execution_count": null,
   "id": "04853dcc",
   "metadata": {},
   "outputs": [],
   "source": [
    "all_classifiers_xgb[0].predict_proba(X)"
   ]
  },
  {
   "cell_type": "code",
   "execution_count": null,
   "id": "e82dc030",
   "metadata": {},
   "outputs": [],
   "source": [
    "all_classifiers_xgb[3].predict_proba(X)"
   ]
  },
  {
   "cell_type": "code",
   "execution_count": null,
   "id": "5d12dc13",
   "metadata": {},
   "outputs": [],
   "source": []
  }
 ],
 "metadata": {
  "kernelspec": {
   "display_name": "mlops-task",
   "language": "python",
   "name": "python3"
  },
  "language_info": {
   "codemirror_mode": {
    "name": "ipython",
    "version": 3
   },
   "file_extension": ".py",
   "mimetype": "text/x-python",
   "name": "python",
   "nbconvert_exporter": "python",
   "pygments_lexer": "ipython3",
   "version": "3.9.2"
  }
 },
 "nbformat": 4,
 "nbformat_minor": 5
}
